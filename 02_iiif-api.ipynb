{
 "cells": [
  {
   "cell_type": "markdown",
   "metadata": {},
   "source": [
    "# Accessing LMEC Collections via IIIF API\n",
    "\n",
    "This notebook provides some tips for using Digital Commonwealth's IIIF API to query the LMEC collections portal and programmatically retrieve metadata about collections items.\n",
    "\n",
    "### Understanding the IIIF API\n",
    "\n",
    "Through the BPL/Digital Commonwealth, all of LMEC's maps are compliant with the International Image Interoperability Framework (IIIF). This means you can use IIIF APIs to retrieve Image and Presentation responses for any LMEC collection item.\n",
    "\n",
    "#### Image API\n",
    "\n",
    "A **Image API** request can return either *image metadata* or *a static image*.\n",
    "\n",
    "Let's say we want to request metadata and an image for this recently-accessioned [map of summer resorts along the Boston & Maine Railroad](https://collections.leventhalmap.org/search/commonwealth:g158f6689).\n",
    "\n",
    "The LMEC's API syntax for requesting image metadata is `BASE_URL` + `IMAGE_ID` + `/info.json`:\n",
    "\n",
    "    # base URL\n",
    "    https://iiif.digitalcommonwealth.org/iiif/2/\n",
    "\n",
    "    # image information request\n",
    "    https://iiif.digitalcommonwealth.org/iiif/2/IMAGE_ID/info.json\n",
    "\n",
    "The image ID can be found by parsing the JSON data from any old collections item:\n"
   ]
  },
  {
   "cell_type": "code",
   "execution_count": 1,
   "metadata": {},
   "outputs": [
    {
     "name": "stdout",
     "output_type": "stream",
     "text": [
      "commonwealth:7w62hz17g\n"
     ]
    }
   ],
   "source": [
    "import json\n",
    "import requests\n",
    "\n",
    "item = requests.get(\"https://collections.leventhalmap.org/search/commonwealth:g158f6689.json\")\n",
    "print(item.json()['response']['document']['exemplary_image_ssi'])"
   ]
  },
  {
   "cell_type": "markdown",
   "metadata": {},
   "source": [
    "We can append this image ID to the base URL to retrieve IIIF metadata:"
   ]
  },
  {
   "cell_type": "code",
   "execution_count": 17,
   "metadata": {},
   "outputs": [
    {
     "name": "stdout",
     "output_type": "stream",
     "text": [
      "{\n",
      "  \"@context\": \"http://iiif.io/api/image/2/context.json\",\n",
      "  \"@id\": \"https://iiif.digitalcommonwealth.org/iiif/2/commonwealth:7w62hz17g\",\n",
      "  \"protocol\": \"http://iiif.io/api/image\",\n",
      "  \"width\": 7938,\n",
      "  \"height\": 7111,\n",
      "  \"sizes\": [\n",
      "    {\n",
      "      \"width\": 124,\n",
      "      \"height\": 111\n",
      "    },\n",
      "    {\n",
      "      \"width\": 248,\n",
      "      \"height\": 222\n",
      "    },\n",
      "    {\n",
      "      \"width\": 496,\n",
      "      \"height\": 444\n",
      "    },\n",
      "    {\n",
      "      \"width\": 992,\n",
      "      \"height\": 889\n",
      "    },\n",
      "    {\n",
      "      \"width\": 1985,\n",
      "      \"height\": 1778\n",
      "    },\n",
      "    {\n",
      "      \"width\": 3969,\n",
      "      \"height\": 3556\n",
      "    },\n",
      "    {\n",
      "      \"width\": 7938,\n",
      "      \"height\": 7111\n",
      "    }\n",
      "  ],\n",
      "  \"tiles\": [\n",
      "    {\n",
      "      \"width\": 1024,\n",
      "      \"height\": 1024,\n",
      "      \"scaleFactors\": [\n",
      "        1,\n",
      "        2,\n",
      "        4,\n",
      "        8,\n",
      "        16,\n",
      "        32,\n",
      "        64\n",
      "      ]\n",
      "    }\n",
      "  ],\n",
      "  \"profile\": [\n",
      "    \"http://iiif.io/api/image/2/level2.json\",\n",
      "    {\n",
      "      \"formats\": [\n",
      "        \"tif\",\n",
      "        \"jpg\",\n",
      "        \"gif\",\n",
      "        \"png\"\n",
      "      ],\n",
      "      \"qualities\": [\n",
      "        \"bitonal\",\n",
      "        \"default\",\n",
      "        \"gray\",\n",
      "        \"color\"\n",
      "      ],\n",
      "      \"supports\": [\n",
      "        \"regionByPx\",\n",
      "        \"sizeByW\",\n",
      "        \"sizeByWhListed\",\n",
      "        \"cors\",\n",
      "        \"regionSquare\",\n",
      "        \"sizeByDistortedWh\",\n",
      "        \"canonicalLinkHeader\",\n",
      "        \"sizeByConfinedWh\",\n",
      "        \"sizeByPct\",\n",
      "        \"jsonldMediaType\",\n",
      "        \"regionByPct\",\n",
      "        \"rotationArbitrary\",\n",
      "        \"sizeByH\",\n",
      "        \"baseUriRedirect\",\n",
      "        \"rotationBy90s\",\n",
      "        \"profileLinkHeader\",\n",
      "        \"sizeByForcedWh\",\n",
      "        \"sizeByWh\",\n",
      "        \"mirroring\"\n",
      "      ]\n",
      "    }\n",
      "  ]\n",
      "}\n"
     ]
    }
   ],
   "source": [
    "base = \"https://iiif.digitalcommonwealth.org/iiif/2/\"\n",
    "imageID = \"commonwealth:7w62hz17g\"\n",
    "\n",
    "imageInfo = requests.get(base+imageID)\n",
    "\n",
    "print(json.dumps(imageInfo.json(), indent=2))"
   ]
  },
  {
   "cell_type": "markdown",
   "metadata": {},
   "source": [
    "The following syntax will return a static image:\n",
    "\n",
    "    # full image as JPEG\n",
    "    https://iiif.digitalcommonwealth.org/iiif/2/IMAGE_ID/full/full/0/default.jpg\n",
    "\n",
    "And accessing it is as easy as combining a few sets of strings:"
   ]
  },
  {
   "cell_type": "code",
   "execution_count": 21,
   "metadata": {},
   "outputs": [
    {
     "name": "stdout",
     "output_type": "stream",
     "text": [
      "https://iiif.digitalcommonwealth.org/iiif/2/commonwealth:7w62hz17g/full/full/0/default.jpg\n"
     ]
    }
   ],
   "source": [
    "iiifSpec = \"/full/full/0/default.jpg\"\n",
    "\n",
    "imageStatic = (base+imageID+iiifSpec)\n",
    "print(imageStatic)"
   ]
  },
  {
   "cell_type": "markdown",
   "metadata": {},
   "source": [
    "By tweaking the `iiifSpec` variable, you can easily manipulate the image, adding parameters for size, rotation, quality, format, and more. See the [IIIF docs](https://iiif.io/api/image/3.0/) for more information.\n",
    "\n",
    "#### Presentation API"
   ]
  }
 ],
 "metadata": {
  "interpreter": {
   "hash": "d50c5030a654489db03ce84d5b558760052db50f9495ca301a20b79a29681fb3"
  },
  "kernelspec": {
   "display_name": "Python 3.7.11 ('lmec')",
   "language": "python",
   "name": "python3"
  },
  "language_info": {
   "codemirror_mode": {
    "name": "ipython",
    "version": 3
   },
   "file_extension": ".py",
   "mimetype": "text/x-python",
   "name": "python",
   "nbconvert_exporter": "python",
   "pygments_lexer": "ipython3",
   "version": "3.7.11"
  },
  "orig_nbformat": 4
 },
 "nbformat": 4,
 "nbformat_minor": 2
}
