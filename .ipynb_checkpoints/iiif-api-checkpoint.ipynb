{
 "cells": [
  {
   "cell_type": "markdown",
   "metadata": {},
   "source": [
    "# Accessing LMEC Collections via IIIF API\n",
    "\n",
    "This notebook provides some tips for using Digital Commonwealth's IIIF API to query the LMEC collections portal and programmatically retrieve metadata about collections items.\n",
    "\n",
    "### Understanding the IIIF API\n",
    "\n",
    "Through the BPL/Digital Commonwealth, all of LMEC's maps are compliant with the International Image Interoperability Framework (IIIF). This means you can use IIIF APIs to retrieve Image and Presentation responses for any LMEC collection item.\n",
    "\n",
    "#### Image 2.0 API\n",
    "\n",
    "A **Image 2.0 API** request can return either *image metadata* or *a static image*.\n",
    "\n",
    "Let's say we want to request metadata and an image for this recently-accessioned [map of summer resorts along the Boston & Maine Railroad](https://collections.leventhalmap.org/search/commonwealth:g158f6689).\n",
    "\n",
    "The LMEC's API syntax for requesting image metadata is `BASE_URL` + `IMAGE_ID` + `/info.json`:\n",
    "\n",
    "    # base URL\n",
    "    https://iiif.digitalcommonwealth.org/iiif/2/\n",
    "\n",
    "    # image information request\n",
    "    https://iiif.digitalcommonwealth.org/iiif/2/IMAGE_ID/info.json\n",
    "\n",
    "The image ID can be found by parsing the JSON data from any old collections item:\n"
   ]
  },
  {
   "cell_type": "code",
   "execution_count": 19,
   "metadata": {},
   "outputs": [
    {
     "name": "stdout",
     "output_type": "stream",
     "text": [
      "commonwealth:7w62hz17g\n"
     ]
    }
   ],
   "source": [
    "import json\n",
    "import requests\n",
    "\n",
    "item = requests.get(\"https://collections.leventhalmap.org/search/commonwealth:g158f6689.json\")\n",
    "print(item.json()['response']['document']['exemplary_image_ssi'])"
   ]
  },
  {
   "cell_type": "markdown",
   "metadata": {},
   "source": [
    "The static image request follows :\n",
    "\n",
    "    # full image, 50% size, as JPEG\n",
    "    https://iiif.digitalcommonwealth.org/iiif/2/IMAGE_ID/full/pct:50/0/default.jpg\n",
    "\n"
   ]
  },
  {
   "cell_type": "code",
   "execution_count": null,
   "metadata": {},
   "outputs": [],
   "source": []
  }
 ],
 "metadata": {
  "interpreter": {
   "hash": "9d95a0750442c48154ac88d02c074999fe7569ac5db8196fc6e24e1e7ebc41bc"
  },
  "kernelspec": {
   "display_name": "Python 3",
   "language": "python",
   "name": "python3"
  },
  "language_info": {
   "codemirror_mode": {
    "name": "ipython",
    "version": 3
   },
   "file_extension": ".py",
   "mimetype": "text/x-python",
   "name": "python",
   "nbconvert_exporter": "python",
   "pygments_lexer": "ipython3",
   "version": "3.7.11"
  }
 },
 "nbformat": 4,
 "nbformat_minor": 2
}
