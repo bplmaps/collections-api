{
 "cells": [
  {
   "cell_type": "markdown",
   "metadata": {},
   "source": [
    "# Accessing LMEC Collections via IIIF API\n",
    "\n",
    "This notebook provides some tips for using Digital Commonwealth's IIIF API to query the LMEC collections portal and programmatically retrieve metadata about collections items.\n",
    "\n",
    "### Understanding the IIIF API\n",
    "\n",
    "Through the BPL/Digital Commonwealth, all of LMEC's maps are compliant with the International Image Interoperability Framework (IIIF). This means you can use IIIF APIs to retrieve Image and Presentation responses for any LMEC collection item.\n",
    "\n",
    "#### Image API\n",
    "\n",
    "A **Image API** request can return either *image metadata* or *a static image*.\n",
    "\n",
    "Let's say we want to request metadata and an image for this recently-accessioned [map of summer resorts along the Boston & Maine Railroad](https://collections.leventhalmap.org/search/commonwealth:g158f6689).\n",
    "\n",
    "The LMEC's API syntax for requesting image metadata is `BASE_URL` + `IMAGE_ID` + `/info.json`:\n",
    "\n",
    "    # base URL\n",
    "    https://iiif.digitalcommonwealth.org/iiif/2/\n",
    "\n",
    "    # image information request\n",
    "    https://iiif.digitalcommonwealth.org/iiif/2/IMAGE_ID/info.json\n",
    "\n",
    "The image ID can be found by parsing the JSON data from any old collections item:\n"
   ]
  },
  {
   "cell_type": "code",
   "execution_count": null,
   "metadata": {},
   "outputs": [],
   "source": [
    "import json\n",
    "import requests\n",
    "\n",
    "item = requests.get(\"https://collections.leventhalmap.org/search/commonwealth:g158f6689.json\")\n",
    "print(item.json()['response']['document']['exemplary_image_ssi'])"
   ]
  },
  {
   "cell_type": "markdown",
   "metadata": {},
   "source": [
    "We can append this image ID to the base URL to retrieve image metadata:"
   ]
  },
  {
   "cell_type": "code",
   "execution_count": null,
   "metadata": {},
   "outputs": [],
   "source": [
    "base = \"https://iiif.digitalcommonwealth.org/iiif/2/\"\n",
    "imageID = \"commonwealth:7w62hz17g\"\n",
    "\n",
    "imageInfo = requests.get(base+imageID)\n",
    "\n",
    "print(json.dumps(imageInfo.json(), indent=2))"
   ]
  },
  {
   "cell_type": "markdown",
   "metadata": {},
   "source": [
    "The following syntax will return a static image:\n",
    "\n",
    "    # full image as JPEG\n",
    "    https://iiif.digitalcommonwealth.org/iiif/2/IMAGE_ID/full/full/0/default.jpg\n",
    "\n",
    "And accessing it is as easy as combining a few sets of strings:"
   ]
  },
  {
   "cell_type": "code",
   "execution_count": null,
   "metadata": {},
   "outputs": [],
   "source": [
    "iiifSpec = \"/full/full/0/default.jpg\"\n",
    "\n",
    "imageStatic = (base+imageID+iiifSpec)\n",
    "print(imageStatic)"
   ]
  },
  {
   "cell_type": "markdown",
   "metadata": {},
   "source": [
    "By tweaking the `iiifSpec` variable, you can easily manipulate the image, adding parameters for size, rotation, quality, format, and more. See the [IIIF docs](https://iiif.io/api/image/3.0/) for more information.\n",
    "\n",
    "You can also retrieve image data in greater bulk with a `for` loop or a data frame. For example, the following search query returns 157 pictorial maps in Massachusetts:\n",
    "\n",
    "    https://collections.leventhalmap.org/search?f%5Bsubject_geographic_sim%5D%5B%5D=Massachusetts&q=pictorial\n",
    "\n",
    "By looping through this query, we can retrieve IIIF image metadata and URLs in bulk.\n",
    "\n",
    "For the sake of this example, I've limited the results to 20."
   ]
  },
  {
   "cell_type": "code",
   "execution_count": null,
   "metadata": {},
   "outputs": [],
   "source": [
    "import pandas as pd\n",
    "\n",
    "# don't forget to append\n",
    "# `.json` after `search` in the URL!\n",
    "\n",
    "data = requests.get(\"https://collections.leventhalmap.org/search.json?f%5Bsubject_geographic_sim%5D%5B%5D=Massachusetts&per_page=20&q=pictorial\")\n",
    "\n",
    "# parse the response using the JSON API\n",
    "# and view it in a pandas data frame\n",
    "\n",
    "df = pd.DataFrame(data.json()['response']['docs'])\n",
    "fields = ['id', 'exemplary_image_ssi']\n",
    "newFieldNames = {'id':'commonwealth_id', 'exemplary_image_ssi':'iiif_id'}\n",
    "df_fltr = pd.DataFrame(df[fields])\n",
    "df_fltr.rename(columns = newFieldNames, inplace = True)\n",
    "df_fltr\n"
   ]
  },
  {
   "cell_type": "markdown",
   "metadata": {},
   "source": [
    "Let's say we want to create a list that contains static image URLs for these 50 maps. We could loop through the `iiif_id` column and use the image API syntax to generate a list of image URLs:"
   ]
  },
  {
   "cell_type": "code",
   "execution_count": null,
   "metadata": {},
   "outputs": [],
   "source": [
    "# redefine `iiifSpec` to load smaller images\n",
    "\n",
    "iiifSpec = \"/full/1200,/0/default.jpg\"\n",
    "iiifMaps = []\n",
    "for a in df_fltr['iiif_id']:\n",
    "    a = (base+a+iiifSpec)\n",
    "    iiifMaps.append(a)\n",
    "print(iiifMaps)"
   ]
  },
  {
   "cell_type": "markdown",
   "metadata": {},
   "source": [
    "#### Presentation API\n",
    "\n",
    "The Image API makes it easy to retrieve \n",
    "\n",
    "A IIIF manifest is the package that contains all the information related to a particular digital object, including the image itself as well as the metadata. The manifest is accessible via a URL that points to file which can be read by a IIIF tool or viewer, like Mirador. More about IIIF manifests.\n",
    "\n",
    "IIIF Presentation manifests in JSON can be returned by appending `/manifest` to the URL for the item detail page. (A 404 will be returned if no manifest is available.)\n",
    "\n"
   ]
  }
 ],
 "metadata": {
  "interpreter": {
   "hash": "d50c5030a654489db03ce84d5b558760052db50f9495ca301a20b79a29681fb3"
  },
  "kernelspec": {
   "display_name": "Python 3",
   "language": "python",
   "name": "python3"
  },
  "language_info": {
   "codemirror_mode": {
    "name": "ipython",
    "version": 3
   },
   "file_extension": ".py",
   "mimetype": "text/x-python",
   "name": "python",
   "nbconvert_exporter": "python",
   "pygments_lexer": "ipython3",
   "version": "3.7.11"
  }
 },
 "nbformat": 4,
 "nbformat_minor": 2
}
