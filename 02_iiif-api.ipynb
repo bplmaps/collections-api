{
 "cells": [
  {
   "cell_type": "markdown",
   "metadata": {},
   "source": [
    "# Accessing LMEC Collections via IIIF API\n",
    "\n",
    "This notebook provides some tips for using Digital Commonwealth's IIIF API to query the LMEC collections portal and programmatically retrieve metadata about collections items.\n",
    "\n",
    "### Understanding the IIIF API\n",
    "\n",
    "Through the BPL/Digital Commonwealth, all of LMEC's maps are compliant with the International Image Interoperability Framework (IIIF). This means you can use IIIF APIs to retrieve Image and Presentation responses for any LMEC collection item.\n",
    "\n",
    "#### Image API\n",
    "\n",
    "An **Image API** request can return either *image metadata* or *a static image*.\n",
    "\n",
    "Let's say we want to request metadata and an image for this recently-accessioned [map of summer resorts along the Boston & Maine Railroad](https://collections.leventhalmap.org/search/commonwealth:g158f6689).\n",
    "\n",
    "The LMEC's API syntax for requesting image metadata is `BASE_URL` + `IMAGE_ID` + `/info.json`:\n",
    "\n",
    "    # base URL\n",
    "    https://iiif.digitalcommonwealth.org/iiif/2/\n",
    "\n",
    "    # image information request\n",
    "    https://iiif.digitalcommonwealth.org/iiif/2/IMAGE_ID/info.json\n",
    "\n",
    "The image ID can be found by parsing the JSON data from any old collections item:\n"
   ]
  },
  {
   "cell_type": "code",
   "execution_count": null,
   "metadata": {},
   "outputs": [],
   "source": [
    "import json\n",
    "import requests\n",
    "\n",
    "item = requests.get(\"https://collections.leventhalmap.org/search/commonwealth:g158f6689.json\")\n",
    "print(item.json()['response']['document']['exemplary_image_ssi'])"
   ]
  },
  {
   "cell_type": "markdown",
   "metadata": {},
   "source": [
    "We can append this image ID to the base URL to retrieve image metadata:"
   ]
  },
  {
   "cell_type": "code",
   "execution_count": null,
   "metadata": {},
   "outputs": [],
   "source": [
    "base = \"https://iiif.digitalcommonwealth.org/iiif/2/\"\n",
    "imageID = \"commonwealth:7w62hz17g\"\n",
    "\n",
    "imageInfo = requests.get(base+imageID)\n",
    "\n",
    "print(json.dumps(imageInfo.json(), indent=2))"
   ]
  },
  {
   "cell_type": "markdown",
   "metadata": {},
   "source": [
    "The following syntax will return a static image:\n",
    "\n",
    "    # full image as JPEG\n",
    "    https://iiif.digitalcommonwealth.org/iiif/2/IMAGE_ID/full/full/0/default.jpg\n",
    "\n",
    "And accessing it is as easy as combining a few sets of strings:"
   ]
  },
  {
   "cell_type": "code",
   "execution_count": null,
   "metadata": {},
   "outputs": [],
   "source": [
    "iiifSpec = \"/full/full/0/default.jpg\"\n",
    "\n",
    "imageStatic = (base+imageID+iiifSpec)\n",
    "print(imageStatic)"
   ]
  },
  {
   "cell_type": "markdown",
   "metadata": {},
   "source": [
    "By tweaking the `iiifSpec` variable, you can easily manipulate the image, adding parameters for size, rotation, quality, format, and more. See the [IIIF docs](https://iiif.io/api/image/3.0/) for more information.\n",
    "\n",
    "You can also retrieve image data in greater bulk with a `for` loop or a data frame. For example, the following search query returns 157 pictorial maps in Massachusetts:\n",
    "\n",
    "    https://collections.leventhalmap.org/search?f%5Bsubject_geographic_sim%5D%5B%5D=Massachusetts&q=pictorial\n",
    "\n",
    "By parsing this query in a data frame, we can retrieve IIIF image metadata and URLs in bulk.\n",
    "\n",
    "Below, we've simply filtered the JSON API response by two fields: the Commonwealth ID and the IIIF ID.\n",
    "\n",
    "For the sake of this example, I've limited the results to 20."
   ]
  },
  {
   "cell_type": "code",
   "execution_count": null,
   "metadata": {},
   "outputs": [],
   "source": [
    "import pandas as pd\n",
    "\n",
    "# don't forget to append\n",
    "# `.json` after `search` in the URL!\n",
    "\n",
    "data = requests.get(\"https://collections.leventhalmap.org/search.json?f%5Bsubject_geographic_sim%5D%5B%5D=Massachusetts&per_page=20&q=pictorial\")\n",
    "\n",
    "# parse the response using the JSON API\n",
    "# and view it in a pandas data frame\n",
    "\n",
    "df = pd.DataFrame(data.json()['response']['docs'])\n",
    "fields = ['id', 'exemplary_image_ssi']\n",
    "newFieldNames = {'id':'commonwealth_id', 'exemplary_image_ssi':'iiif_id'}\n",
    "df_fltr = pd.DataFrame(df[fields])\n",
    "df_fltr.rename(columns = newFieldNames, inplace = True)\n",
    "df_fltr\n"
   ]
  },
  {
   "cell_type": "markdown",
   "metadata": {},
   "source": [
    "Let's say we want to create a list that contains static image URLs for these 20 maps.\n",
    "\n",
    "We can easily loop through the `iiif_id` column and use the image API syntax to generate a list of image URLs. In doing so, we might want to redefine the `iiifSpec` variable so that we're retrieving smaller images:"
   ]
  },
  {
   "cell_type": "code",
   "execution_count": null,
   "metadata": {},
   "outputs": [],
   "source": [
    "# redefine `iiifSpec` to load smaller images\n",
    "\n",
    "iiifSpec = \"/full/1200,/0/default.jpg\"\n",
    "\n",
    "# create an empty list to hold IIIF image endpoints and\n",
    "# loop through the data frame to retrieve them\n",
    "\n",
    "iiifMaps = []\n",
    "for a in df_fltr['iiif_id']:\n",
    "    a = (base+a+iiifSpec)\n",
    "    iiifMaps.append(a)\n",
    "print(iiifMaps)"
   ]
  },
  {
   "cell_type": "markdown",
   "metadata": {},
   "source": [
    "#### Presentation API\n",
    "\n",
    "Where the Image API makes it easy to retrieve image metadata and static images, the **Presentation API** allows us to embed high quality zoomable images in things like web apps or image viewers.\n",
    "\n",
    "Practically, a IIIF manifest is just a URL. Functionally, it's the package that contains all information related to a particular digital object, including the image itself as well as the metadata.\n",
    "\n",
    "The manifest is accessible via a URL that points to file which can be read by a IIIF tool or viewer, like Mirador or OpenSeadragon. ([description from Harvard Library](https://library.harvard.edu/services-tools/iiif-manifests-digital-objects))\n",
    "\n",
    "In LMEC collections, IIIF Presentation manifests can be returned by appending `/manifest` to the URL for the item detail page. For example:"
   ]
  },
  {
   "cell_type": "code",
   "execution_count": 138,
   "metadata": {},
   "outputs": [
    {
     "data": {
      "text/plain": [
       "{'@context': 'http://iiif.io/api/presentation/2/context.json',\n",
       " '@id': 'https://ark.digitalcommonwealth.org/ark:/50959/g158f6689/manifest',\n",
       " '@type': 'sc:Manifest',\n",
       " 'label': 'Summer resorts of the coast, lake, and mountain regions along the Boston & Maine Railroad and connections',\n",
       " 'thumbnail': {'@id': 'https://ark.digitalcommonwealth.org/ark:/50959/g158f6689/thumbnail',\n",
       "  'service': {'@context': 'http://iiif.io/api/image/2/context.json',\n",
       "   '@id': 'https://iiif.digitalcommonwealth.org/iiif/2/commonwealth:7w62hz17g',\n",
       "   'profile': 'http://iiif.io/api/image/2/level2.json'}},\n",
       " 'viewingHint': 'individuals',\n",
       " 'metadata': [{'label': 'Title',\n",
       "   'value': 'Summer resorts of the coast, lake, and mountain regions along the Boston & Maine Railroad and connections'},\n",
       "  {'label': 'Date', 'value': '[1912]'},\n",
       "  {'label': 'Creator',\n",
       "   'value': ['Boston and Maine Railroad. General Passenger Department',\n",
       "    'Matthews-Northrup Works']},\n",
       "  {'label': 'Publisher', 'value': 'Buffalo : Matthews-Northrup Works'},\n",
       "  {'label': 'Type of Resource', 'value': 'Cartographic'},\n",
       "  {'label': 'Format', 'value': 'Maps'},\n",
       "  {'label': 'Language', 'value': 'English'},\n",
       "  {'label': 'Subjects',\n",
       "   'value': ['New England--Maps',\n",
       "    'Railroads--New England--Maps',\n",
       "    'Boston and Maine Railroad']},\n",
       "  {'label': 'Location', 'value': 'Boston Public Library'},\n",
       "  {'label': 'Collection (local)',\n",
       "   'value': 'Norman B. Leventhal Map Center Collection'},\n",
       "  {'label': 'Identifier',\n",
       "   'value': ['https://ark.digitalcommonwealth.org/ark:/50959/g158f6689',\n",
       "    '06_01_017902',\n",
       "    'G3721.P3 1912 .B67',\n",
       "    '39999085963088']},\n",
       "  {'label': 'Terms of Use',\n",
       "   'value': ['No known copyright restrictions.',\n",
       "    'No known restrictions on use.']}],\n",
       " 'attribution': 'No known copyright restrictions. No known restrictions on use.',\n",
       " 'seeAlso': 'https://ark.digitalcommonwealth.org/ark:/50959/g158f6689',\n",
       " 'sequences': [{'@type': 'sc:Sequence',\n",
       "   'canvases': [{'@id': 'https://ark.digitalcommonwealth.org/ark:/50959/g158f6689/canvas/7w62hz17g',\n",
       "     '@type': 'sc:Canvas',\n",
       "     'label': 'image 1',\n",
       "     'width': 7938,\n",
       "     'height': 7111,\n",
       "     'images': [{'@id': 'https://ark.digitalcommonwealth.org/ark:/50959/g158f6689/annotation/7w62hz17g',\n",
       "       '@type': 'oa:Annotation',\n",
       "       'motivation': 'sc:painting',\n",
       "       'resource': {'@id': 'https://ark.digitalcommonwealth.org/ark:/50959/7w62hz17g/large_image',\n",
       "        '@type': 'dcterms:Image',\n",
       "        'format': 'image/jpeg',\n",
       "        'width': 7938,\n",
       "        'height': 7111,\n",
       "        'service': {'@context': 'http://iiif.io/api/image/2/context.json',\n",
       "         '@id': 'https://iiif.digitalcommonwealth.org/iiif/2/commonwealth:7w62hz17g',\n",
       "         'profile': 'http://iiif.io/api/image/2/level2.json'}},\n",
       "       'on': 'https://ark.digitalcommonwealth.org/ark:/50959/g158f6689/canvas/7w62hz17g'}]}]}]}"
      ]
     },
     "execution_count": 138,
     "metadata": {},
     "output_type": "execute_result"
    }
   ],
   "source": [
    "data = requests.get(\"https://collections.leventhalmap.org/search/commonwealth:g158f6689/manifest\")\n",
    "\n",
    "data.json()"
   ]
  },
  {
   "cell_type": "markdown",
   "metadata": {},
   "source": [
    "This is just a single item. We can retrieve items in bulk with the Presentation API in much the same way as the Image API: by parsing with the JSON API.\n",
    "\n",
    "Let's recreate the search for pictorial maps in Massachusetts that we filtered earlier\n",
    "\n",
    "    https://collections.leventhalmap.org/search?f%5Bsubject_geographic_sim%5D%5B%5D=Massachusetts&q=pictorial\n",
    "\n",
    "and then create a list of manifest URLs by appending `/manifest` to the base URL and the Commonwealth ID:"
   ]
  },
  {
   "cell_type": "code",
   "execution_count": null,
   "metadata": {},
   "outputs": [],
   "source": [
    "data = requests.get(\"https://collections.leventhalmap.org/search.json?f%5Bsubject_geographic_sim%5D%5B%5D=Massachusetts&per_page=20&q=pictorial\")\n",
    "\n",
    "df = pd.DataFrame(data.json()['response']['docs'])\n",
    "fields = ['id', 'exemplary_image_ssi']\n",
    "newFieldNames = {'id':'commonwealth_id', 'exemplary_image_ssi':'iiif_id'}\n",
    "df_fltr = pd.DataFrame(df[fields])\n",
    "df_fltr.rename(columns = newFieldNames, inplace = True)\n",
    "df_fltr\n",
    "\n",
    "# define manifest\n",
    "\n",
    "manifest = \"/manifest\"\n",
    "\n",
    "# redefine base URL\n",
    "\n",
    "base = \"https://collections.leventhalmap.org/search/\"\n",
    "\n",
    "# redefine empty list to hold IIIF image endpoints and\n",
    "# loop through the data frame to retrieve them\n",
    "\n",
    "iiifMaps = []\n",
    "for a in df_fltr['commonwealth_id']:\n",
    "    a = (base+a+manifest)\n",
    "    iiifMaps.append(a)\n",
    "print(iiifMaps)"
   ]
  },
  {
   "cell_type": "markdown",
   "metadata": {},
   "source": [
    "\n",
    "For casual (e.g., non-library staff) users, the metadata from the Presentation API is better than the metadata from the JSON API. It's self-selected so that only widely relevant fields like creator and date are present.\n",
    "\n",
    "All of that stuff lives in the `metadata` node of the `manifest` response. We can filter it with:"
   ]
  },
  {
   "cell_type": "code",
   "execution_count": 134,
   "metadata": {},
   "outputs": [
    {
     "data": {
      "text/plain": [
       "[{'label': 'Title',\n",
       "  'value': 'Summer resorts of the coast, lake, and mountain regions along the Boston & Maine Railroad and connections'},\n",
       " {'label': 'Date', 'value': '[1912]'},\n",
       " {'label': 'Creator',\n",
       "  'value': ['Boston and Maine Railroad. General Passenger Department',\n",
       "   'Matthews-Northrup Works']},\n",
       " {'label': 'Publisher', 'value': 'Buffalo : Matthews-Northrup Works'},\n",
       " {'label': 'Type of Resource', 'value': 'Cartographic'},\n",
       " {'label': 'Format', 'value': 'Maps'},\n",
       " {'label': 'Language', 'value': 'English'},\n",
       " {'label': 'Subjects',\n",
       "  'value': ['New England--Maps',\n",
       "   'Railroads--New England--Maps',\n",
       "   'Boston and Maine Railroad']},\n",
       " {'label': 'Location', 'value': 'Boston Public Library'},\n",
       " {'label': 'Collection (local)',\n",
       "  'value': 'Norman B. Leventhal Map Center Collection'},\n",
       " {'label': 'Identifier',\n",
       "  'value': ['https://ark.digitalcommonwealth.org/ark:/50959/g158f6689',\n",
       "   '06_01_017902',\n",
       "   'G3721.P3 1912 .B67',\n",
       "   '39999085963088']},\n",
       " {'label': 'Terms of Use',\n",
       "  'value': ['No known copyright restrictions.',\n",
       "   'No known restrictions on use.']}]"
      ]
     },
     "execution_count": 134,
     "metadata": {},
     "output_type": "execute_result"
    }
   ],
   "source": [
    "data = requests.get(\"https://collections.leventhalmap.org/search/commonwealth:g158f6689/manifest\")\n",
    "\n",
    "data.json()['metadata']"
   ]
  },
  {
   "cell_type": "markdown",
   "metadata": {},
   "source": [
    "Finally, if you want to query items like atlases which contain child items, such as\n",
    "\n",
    "    https://www.digitalcommonwealth.org/search/commonwealth:tt44pw076/\n",
    "\n",
    "you'll need to loop through the different parts of the `manifest` endpoint.\n",
    "\n",
    "In our collections, items like this follow a hierarchy of `sequence` > `canvas` > `image`. If you query the manifest (e.g., append `/manifest` to the end of this item), you can access canvases like so:\n"
   ]
  },
  {
   "cell_type": "code",
   "execution_count": null,
   "metadata": {},
   "outputs": [],
   "source": [
    "atlas = requests.get(\"https://www.digitalcommonwealth.org/search/commonwealth:tt44pw076/manifest\")\n",
    "\n",
    "for a in atlas.json()['sequences'][0]['canvases']:\n",
    "    print(a['@id'])"
   ]
  },
  {
   "cell_type": "markdown",
   "metadata": {},
   "source": [
    "You mainly just need the 9-character identifier at the end of these URLs, so you might want to substring the rest away:"
   ]
  },
  {
   "cell_type": "code",
   "execution_count": null,
   "metadata": {},
   "outputs": [],
   "source": [
    "atlas_list = []\n",
    "\n",
    "for a in atlas.json()['sequences'][0]['canvases']:\n",
    "    atlas_list.append(a['@id'][-9:])\n",
    "\n",
    "print(atlas_list)\n"
   ]
  }
 ],
 "metadata": {
  "interpreter": {
   "hash": "9d95a0750442c48154ac88d02c074999fe7569ac5db8196fc6e24e1e7ebc41bc"
  },
  "kernelspec": {
   "display_name": "Python 3.9.7 ('base')",
   "language": "python",
   "name": "python3"
  },
  "language_info": {
   "codemirror_mode": {
    "name": "ipython",
    "version": 3
   },
   "file_extension": ".py",
   "mimetype": "text/x-python",
   "name": "python",
   "nbconvert_exporter": "python",
   "pygments_lexer": "ipython3",
   "version": "3.9.7"
  }
 },
 "nbformat": 4,
 "nbformat_minor": 2
}
