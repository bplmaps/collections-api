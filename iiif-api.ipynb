{
 "cells": [
  {
   "cell_type": "markdown",
   "metadata": {},
   "source": [
    "# Accessing LMEC Collections via IIIF API\n",
    "\n",
    "This notebook provides some tips for using Digital Commonwealth's IIIF API to query the LMEC collections portal and programmatically retrieve metadata about collections items.\n",
    "\n",
    "### Understanding the IIIF API\n",
    "\n",
    "Through the BPL/Digital Commonwealth, all of LMEC's maps are compliant with the International Image Interoperability Framework (IIIF). This means you can use IIIF APIs to retrieve Image and Presentation responses for any LMEC collection item.\n",
    "\n",
    "#### Image 2.0 API\n",
    "\n",
    "A **Image 2.0 API** request can return either *image metadata* or *a static image*.\n",
    "\n",
    "Let's say we want to request metadata and an image for this recently-accessioned [map of summer resorts along the Boston & Maine Railroad](https://collections.leventhalmap.org/search/commonwealth:g158f6689).\n",
    "\n",
    "It has a URL of `https://collections.leventhalmap.org/search/commonwealth:g158f6689`. The image identifier or **commonwealth ID** `commonwealth:g158f6689` can be used to construct a URL to create a valid IIIF image request:\n",
    "\n",
    "    # base URL\n",
    "    https://iiif.digitalcommonwealth.org/iiif/2/\n",
    "\n",
    "    # image information request\n",
    "    https://iiif.digitalcommonwealth.org/iiif/2/commonwealth:g158f6689/info.json\n",
    "\n",
    "    # full image, 50% size, as JPEG\n",
    "    https://iiif.digitalcommonwealth.org/iiif/2/IMAGE_ID/full/pct:50/0/default.jpg"
   ]
  },
  {
   "cell_type": "code",
   "execution_count": 1,
   "metadata": {},
   "outputs": [],
   "source": [
    "import json\n",
    "import requests\n",
    "\n",
    "https://collections.leventhalmap.org/search/commonwealth:cn69ps738"
   ]
  }
 ],
 "metadata": {
  "interpreter": {
   "hash": "9d95a0750442c48154ac88d02c074999fe7569ac5db8196fc6e24e1e7ebc41bc"
  },
  "kernelspec": {
   "display_name": "Python 3.9.7 ('base')",
   "language": "python",
   "name": "python3"
  },
  "language_info": {
   "codemirror_mode": {
    "name": "ipython",
    "version": 3
   },
   "file_extension": ".py",
   "mimetype": "text/x-python",
   "name": "python",
   "nbconvert_exporter": "python",
   "pygments_lexer": "ipython3",
   "version": "3.9.7"
  },
  "orig_nbformat": 4
 },
 "nbformat": 4,
 "nbformat_minor": 2
}
