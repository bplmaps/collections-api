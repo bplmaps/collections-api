{
 "cells": [
  {
   "cell_type": "markdown",
   "metadata": {},
   "source": [
    "# Accessing LMEC Collections\n",
    "\n",
    "Follow these instructions to easily query the LMEC collections portal and programmatically retrieve metadata about collections items.\n",
    "\n",
    "### Via JSON API\n",
    "\n",
    "The [LMEC collections portal](https://collections.leventhalmap.org) adheres to [Digital Commonwealth's API specifications](https://digitalcommonwealth.org).\n",
    "\n",
    "To retrieve any page as JSON, simply append `.json` to the page URL. On the collections portal, this should be placed directly after `search`:\n",
    "\n",
    "```\n",
    "# normal, return HTML\n",
    "https://collections.leventhalmap.org/search?utf8=%E2%9C%93&q=lowell&search_field=all_fields\n",
    "\n",
    "# return JSON\n",
    "https://collections.leventhalmap.org/search.json?utf8=%E2%9C%93&q=Lowell&search_field=all_fields\n",
    "```\n",
    "\n",
    "By default this query will return 20 items. You can increase this to 100 by replacing `utf8=%E2%9C%93&` with `per_page=100&`:\n",
    "\n",
    "```\n",
    "# normal, return HTML with up to 100 items per page\n",
    "https://collections.leventhalmap.org/search?per_page=100&q=lowell&search_field=all_fields\n",
    "\n",
    "# return JSON up to 100 items per page\n",
    "https://collections.leventhalmap.org/search.json?per_page=100&q=lowell&search_field=all_fields\n",
    "```\n",
    "\n",
    "\n",
    "The same syntax applies at the item level:\n",
    "\n",
    "```\n",
    "# normal, return HTML\n",
    "https://www.digitalcommonwealth.org/search/commonwealth:abcd12345\n",
    "\n",
    "# return JSON\n",
    "https://www.digitalcommonwealth.org/search/commonwealth:abcd12345.json\n",
    "```\n",
    "\n",
    "\n",
    "### Via IIIF API\n",
    "\n",
    "\n",
    "\n",
    "### Via Python scraper"
   ]
  },
  {
   "cell_type": "code",
   "execution_count": null,
   "metadata": {},
   "outputs": [],
   "source": []
  },
  {
   "cell_type": "code",
   "execution_count": null,
   "metadata": {},
   "outputs": [],
   "source": []
  },
  {
   "cell_type": "markdown",
   "metadata": {},
   "source": [
    "asdfasdfasdf"
   ]
  },
  {
   "cell_type": "markdown",
   "metadata": {},
   "source": [
    "asdfsdasdfasdfasdf\n",
    "asdfasdf\n",
    "asd\n",
    "fasd\n",
    "f\n",
    "s\n",
    "sf\n",
    "d\n",
    "s\n",
    "as"
   ]
  },
  {
   "cell_type": "code",
   "execution_count": null,
   "metadata": {},
   "outputs": [],
   "source": []
  },
  {
   "cell_type": "markdown",
   "metadata": {},
   "source": [
    "asdfasd;ks;a dm dasdl "
   ]
  }
 ],
 "metadata": {
  "kernelspec": {
   "display_name": "Python 3",
   "language": "python",
   "name": "python3"
  },
  "language_info": {
   "codemirror_mode": {
    "name": "ipython",
    "version": 3
   },
   "file_extension": ".py",
   "mimetype": "text/x-python",
   "name": "python",
   "nbconvert_exporter": "python",
   "pygments_lexer": "ipython3",
   "version": "3.7.11"
  }
 },
 "nbformat": 4,
 "nbformat_minor": 2
}
